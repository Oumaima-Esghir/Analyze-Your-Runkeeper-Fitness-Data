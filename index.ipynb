{
 "cells": [
  {
   "cell_type": "code",
   "execution_count": 1,
   "metadata": {},
   "outputs": [
    {
     "data": {
      "text/html": [
       "<div>\n",
       "<style scoped>\n",
       "    .dataframe tbody tr th:only-of-type {\n",
       "        vertical-align: middle;\n",
       "    }\n",
       "\n",
       "    .dataframe tbody tr th {\n",
       "        vertical-align: top;\n",
       "    }\n",
       "\n",
       "    .dataframe thead th {\n",
       "        text-align: right;\n",
       "    }\n",
       "</style>\n",
       "<table border=\"1\" class=\"dataframe\">\n",
       "  <thead>\n",
       "    <tr style=\"text-align: right;\">\n",
       "      <th></th>\n",
       "      <th>Activity Id</th>\n",
       "      <th>Type</th>\n",
       "      <th>Route Name</th>\n",
       "      <th>Distance (km)</th>\n",
       "      <th>Duration</th>\n",
       "      <th>Average Pace</th>\n",
       "      <th>Average Speed (km/h)</th>\n",
       "      <th>Calories Burned</th>\n",
       "      <th>Climb (m)</th>\n",
       "      <th>Average Heart Rate (bpm)</th>\n",
       "      <th>Friend's Tagged</th>\n",
       "      <th>Notes</th>\n",
       "      <th>GPX File</th>\n",
       "    </tr>\n",
       "    <tr>\n",
       "      <th>Date</th>\n",
       "      <th></th>\n",
       "      <th></th>\n",
       "      <th></th>\n",
       "      <th></th>\n",
       "      <th></th>\n",
       "      <th></th>\n",
       "      <th></th>\n",
       "      <th></th>\n",
       "      <th></th>\n",
       "      <th></th>\n",
       "      <th></th>\n",
       "      <th></th>\n",
       "      <th></th>\n",
       "    </tr>\n",
       "  </thead>\n",
       "  <tbody>\n",
       "    <tr>\n",
       "      <th>2015-05-19 18:48:36</th>\n",
       "      <td>21c55ade-208e-4525-893f-07b152dd7799</td>\n",
       "      <td>Running</td>\n",
       "      <td>NaN</td>\n",
       "      <td>12.73</td>\n",
       "      <td>1:02:30</td>\n",
       "      <td>4:55</td>\n",
       "      <td>12.22</td>\n",
       "      <td>859.0</td>\n",
       "      <td>109</td>\n",
       "      <td>134.0</td>\n",
       "      <td>NaN</td>\n",
       "      <td>NaN</td>\n",
       "      <td>2015-05-19-184836.gpx</td>\n",
       "    </tr>\n",
       "    <tr>\n",
       "      <th>2015-07-24 18:49:43</th>\n",
       "      <td>0998a635-1166-4d12-b143-56a922e05fd2</td>\n",
       "      <td>Running</td>\n",
       "      <td>NaN</td>\n",
       "      <td>12.69</td>\n",
       "      <td>1:05:15</td>\n",
       "      <td>5:09</td>\n",
       "      <td>11.67</td>\n",
       "      <td>858.0</td>\n",
       "      <td>108</td>\n",
       "      <td>146.0</td>\n",
       "      <td>NaN</td>\n",
       "      <td>NaN</td>\n",
       "      <td>2015-07-24-184943.gpx</td>\n",
       "    </tr>\n",
       "    <tr>\n",
       "      <th>2017-10-10 18:24:47</th>\n",
       "      <td>a734675d-6dca-437e-8bbe-0aaec901a5f2</td>\n",
       "      <td>Running</td>\n",
       "      <td>NaN</td>\n",
       "      <td>8.04</td>\n",
       "      <td>43:22</td>\n",
       "      <td>5:24</td>\n",
       "      <td>11.13</td>\n",
       "      <td>570.0</td>\n",
       "      <td>126</td>\n",
       "      <td>146.0</td>\n",
       "      <td>NaN</td>\n",
       "      <td>TomTom MySports Watch</td>\n",
       "      <td>2017-10-10-182447.gpx</td>\n",
       "    </tr>\n",
       "  </tbody>\n",
       "</table>\n",
       "</div>"
      ],
      "text/plain": [
       "                                              Activity Id     Type Route Name  \\\n",
       "Date                                                                            \n",
       "2015-05-19 18:48:36  21c55ade-208e-4525-893f-07b152dd7799  Running        NaN   \n",
       "2015-07-24 18:49:43  0998a635-1166-4d12-b143-56a922e05fd2  Running        NaN   \n",
       "2017-10-10 18:24:47  a734675d-6dca-437e-8bbe-0aaec901a5f2  Running        NaN   \n",
       "\n",
       "                     Distance (km) Duration Average Pace  \\\n",
       "Date                                                       \n",
       "2015-05-19 18:48:36          12.73  1:02:30         4:55   \n",
       "2015-07-24 18:49:43          12.69  1:05:15         5:09   \n",
       "2017-10-10 18:24:47           8.04    43:22         5:24   \n",
       "\n",
       "                     Average Speed (km/h)  Calories Burned  Climb (m)  \\\n",
       "Date                                                                    \n",
       "2015-05-19 18:48:36                 12.22            859.0        109   \n",
       "2015-07-24 18:49:43                 11.67            858.0        108   \n",
       "2017-10-10 18:24:47                 11.13            570.0        126   \n",
       "\n",
       "                     Average Heart Rate (bpm)  Friend's Tagged  \\\n",
       "Date                                                             \n",
       "2015-05-19 18:48:36                     134.0              NaN   \n",
       "2015-07-24 18:49:43                     146.0              NaN   \n",
       "2017-10-10 18:24:47                     146.0              NaN   \n",
       "\n",
       "                                     Notes               GPX File  \n",
       "Date                                                               \n",
       "2015-05-19 18:48:36                    NaN  2015-05-19-184836.gpx  \n",
       "2015-07-24 18:49:43                    NaN  2015-07-24-184943.gpx  \n",
       "2017-10-10 18:24:47  TomTom MySports Watch  2017-10-10-182447.gpx  "
      ]
     },
     "metadata": {},
     "output_type": "display_data"
    },
    {
     "name": "stdout",
     "output_type": "stream",
     "text": [
      "<class 'pandas.core.frame.DataFrame'>\n",
      "DatetimeIndex: 508 entries, 2018-11-11 14:05:12 to 2012-08-22 18:53:54\n",
      "Data columns (total 13 columns):\n",
      " #   Column                    Non-Null Count  Dtype  \n",
      "---  ------                    --------------  -----  \n",
      " 0   Activity Id               508 non-null    object \n",
      " 1   Type                      508 non-null    object \n",
      " 2   Route Name                1 non-null      object \n",
      " 3   Distance (km)             508 non-null    float64\n",
      " 4   Duration                  508 non-null    object \n",
      " 5   Average Pace              508 non-null    object \n",
      " 6   Average Speed (km/h)      508 non-null    float64\n",
      " 7   Calories Burned           508 non-null    float64\n",
      " 8   Climb (m)                 508 non-null    int64  \n",
      " 9   Average Heart Rate (bpm)  294 non-null    float64\n",
      " 10  Friend's Tagged           0 non-null      float64\n",
      " 11  Notes                     231 non-null    object \n",
      " 12  GPX File                  504 non-null    object \n",
      "dtypes: float64(5), int64(1), object(7)\n",
      "memory usage: 55.6+ KB\n"
     ]
    }
   ],
   "source": [
    "# Import pandas\n",
    "import pandas as pd\n",
    "\n",
    "# Define file containing dataset\n",
    "runkeeper_file = './datasets/cardioActivities.csv'\n",
    "\n",
    "# Create DataFrame with parse_dates and index_col parameters \n",
    "df_activities = pd.read_csv(runkeeper_file, parse_dates=['Date'], index_col='Date')\n",
    "\n",
    "# First look at exported data: select sample of 3 random rows \n",
    "display(df_activities.sample(3))\n",
    "\n",
    "# Print DataFrame summary\n",
    "df_activities.info()"
   ]
  },
  {
   "cell_type": "code",
   "execution_count": 2,
   "metadata": {},
   "outputs": [
    {
     "data": {
      "text/plain": [
       "Running    459\n",
       "Cycling     29\n",
       "Walking     18\n",
       "Other        2\n",
       "Name: Type, dtype: int64"
      ]
     },
     "metadata": {},
     "output_type": "display_data"
    },
    {
     "data": {
      "text/plain": [
       "Type                          0\n",
       "Distance (km)                 0\n",
       "Duration                      0\n",
       "Average Pace                  0\n",
       "Average Speed (km/h)          0\n",
       "Climb (m)                     0\n",
       "Average Heart Rate (bpm)    214\n",
       "dtype: int64"
      ]
     },
     "execution_count": 2,
     "metadata": {},
     "output_type": "execute_result"
    }
   ],
   "source": [
    "# Define list of columns to be deleted\n",
    "cols_to_drop = ['Friend\\'s Tagged','Route Name','GPX File','Activity Id','Calories Burned', 'Notes']\n",
    "\n",
    "# Delete unnecessary columns\n",
    "# ... YOUR CODE FOR TASK 2 ...\n",
    "df_activities.drop(cols_to_drop, axis=1, inplace=True)\n",
    "# Count types of training activities\n",
    "display(df_activities.Type.value_counts())\n",
    "\n",
    "# Rename 'Other' type to 'Unicycling'\n",
    "df_activities['Type'] = df_activities['Type'].str.replace('Other', 'Unicycling', regex=False)\n",
    "\n",
    "# Count missing values for each column\n",
    "# ... YOUR CODE FOR TASK 2 ...\n",
    "df_activities.isnull().sum(axis=0)"
   ]
  },
  {
   "cell_type": "code",
   "execution_count": 3,
   "metadata": {},
   "outputs": [
    {
     "data": {
      "text/plain": [
       "Type                        0\n",
       "Distance (km)               0\n",
       "Duration                    0\n",
       "Average Pace                0\n",
       "Average Speed (km/h)        0\n",
       "Climb (m)                   0\n",
       "Average Heart Rate (bpm)    0\n",
       "dtype: int64"
      ]
     },
     "execution_count": 3,
     "metadata": {},
     "output_type": "execute_result"
    }
   ],
   "source": [
    "# Calculate sample means for heart rate for each training activity type \n",
    "avg_hr_run = df_activities[df_activities['Type'] == 'Running']['Average Heart Rate (bpm)'].mean()\n",
    "avg_hr_cycle = df_activities[df_activities['Type'] == 'Cycling']['Average Heart Rate (bpm)'].mean()\n",
    "\n",
    "# Split whole DataFrame into several, specific for different activities\n",
    "df_run = df_activities[df_activities['Type'] == 'Running'].copy()\n",
    "df_walk = df_activities[df_activities['Type'] == 'Walking'].copy()\n",
    "df_cycle = df_activities[df_activities['Type'] == 'Cycling'].copy()\n",
    "\n",
    "# Filling missing values with counted means  \n",
    "df_walk['Average Heart Rate (bpm)'].fillna(110, inplace=True)\n",
    "df_run['Average Heart Rate (bpm)'].fillna(int(avg_hr_run), inplace=True)\n",
    "# ... YOUR CODE FOR TASK 3 ...\n",
    "df_cycle['Average Heart Rate (bpm)'].fillna(int(avg_hr_cycle), inplace=True)\n",
    "# Count missing values for each column in running data\n",
    "# ... YOUR CODE FOR TASK 3 ...\n",
    "df_run.isnull().sum()"
   ]
  },
  {
   "cell_type": "code",
   "execution_count": 12,
   "metadata": {},
   "outputs": [
    {
     "name": "stderr",
     "output_type": "stream",
     "text": [
      "C:\\Users\\Asus 24GB\\AppData\\Local\\Temp\\ipykernel_1836\\3440371064.py:14: FutureWarning: Value based partial slicing on non-monotonic DatetimeIndexes with non-existing keys is deprecated and will raise a KeyError in a future Version.\n",
      "  runs_subset_2013_2018=df_run['2018':'2013']\n"
     ]
    },
    {
     "data": {
      "image/png": "[encoded data removed]",
      "text/plain": [
       "<Figure size 1200x1600 with 4 Axes>"
      ]
     },
     "metadata": {},
     "output_type": "display_data"
    }
   ],
   "source": [
    "%matplotlib inline\n",
    "\n",
    "# Import matplotlib, set style and ignore warning\n",
    "import matplotlib.pyplot as plt\n",
    "%matplotlib inline\n",
    "import warnings\n",
    "plt.style.use('ggplot')\n",
    "warnings.filterwarnings(\n",
    "    action='ignore', module='matplotlib.figure', category=UserWarning,\n",
    "    message=('This figure includes Axes that are not compatible with tight_layout, so results might be incorrect.')\n",
    ")\n",
    "\n",
    "# Prepare data subsetting period from 2013 till 2018\n",
    "runs_subset_2013_2018=df_run['2018':'2013']\n",
    "\n",
    "# Create, plot and customize in one step\n",
    "runs_subset_2013_2018.plot(subplots=True,sharex=False,figsize=(12,16),linestyle='none',marker='o',markersize=3,)\n",
    "\n",
    "# Show plot\n",
    "# ... YOUR CODE FOR TASK 4 ...\n",
    "plt.show()"
   ]
  }
 ],
 "metadata": {
  "kernelspec": {
   "display_name": "Python 3.9.12 ('base')",
   "language": "python",
   "name": "python3"
  },
  "language_info": {
   "codemirror_mode": {
    "name": "ipython",
    "version": 3
   },
   "file_extension": ".py",
   "mimetype": "text/x-python",
   "name": "python",
   "nbconvert_exporter": "python",
   "pygments_lexer": "ipython3",
   "version": "3.9.12"
  },
  "orig_nbformat": 4,
  "vscode": {
   "interpreter": {
    "hash": "0d04ce6c9348739643e8e27abd51f12fecea4d50069b9ed285a2dd0d683988e3"
   }
  }
 },
 "nbformat": 4,
 "nbformat_minor": 2
}
